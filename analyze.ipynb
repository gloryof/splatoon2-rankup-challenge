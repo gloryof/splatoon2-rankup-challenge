{
 "cells": [
  {
   "cell_type": "code",
   "execution_count": 10,
   "metadata": {},
   "outputs": [],
   "source": [
    "import pandas as pd\n",
    "\n",
    "df = pd.read_csv('result.csv')\n",
    "\n",
    "for_count = df.rename(columns={\"up\":\"count\"})\n",
    "per_stage_group_column = [\"stage\",\"win\"]\n",
    "per_wepon_group_column = [\"wepon\",\"win\"]\n",
    "per_rule_group_column = [\"rule\",\"win\"]\n",
    "\n",
    "per_stage_count = for_count.loc[:, [\"stage\",\"win\", \"count\"]] \\\n",
    "  .groupby(per_stage_group_column) \\\n",
    "  .count() \n",
    "per_stage_count.to_csv(\"wol_per_stage.csv\")\n",
    "\n",
    "per_wepon_count = for_count.loc[:, [\"wepon\",\"win\", \"count\"]] \\\n",
    "  .groupby(per_wepon_group_column) \\\n",
    "  .count()\n",
    "per_wepon_count.to_csv(\"wol_per_wepon.csv\")\n",
    "\n",
    "per_rule_count = for_count.loc[:, [\"rule\",\"win\", \"count\"]] \\\n",
    "  .groupby(per_rule_group_column) \\\n",
    "  .count()\n",
    "per_rule_count.to_csv(\"wol_per_rule.csv\")\n",
    "\n",
    "per_stage_summary = df.groupby(per_stage_group_column).mean().round(1)\n",
    "per_stage_summary.to_csv(\"summary_per_stage.csv\")\n",
    "\n",
    "per_wepon_summary = df.groupby(per_wepon_group_column).mean().round(1)\n",
    "per_wepon_summary.to_csv(\"summary_per_wepon.csv\")\n",
    "\n",
    "per_rule_summary = df.groupby(per_rule_group_column).mean().round(1)\n",
    "per_rule_summary.to_csv(\"summary_per_rule.csv\")"
   ]
  },
  {
   "cell_type": "code",
   "execution_count": null,
   "metadata": {},
   "outputs": [],
   "source": []
  }
 ],
 "metadata": {
  "kernelspec": {
   "display_name": "Python 3",
   "language": "python",
   "name": "python3"
  },
  "language_info": {
   "codemirror_mode": {
    "name": "ipython",
    "version": 3
   },
   "file_extension": ".py",
   "mimetype": "text/x-python",
   "name": "python",
   "nbconvert_exporter": "python",
   "pygments_lexer": "ipython3",
   "version": "3.9.12"
  }
 },
 "nbformat": 4,
 "nbformat_minor": 4
}
